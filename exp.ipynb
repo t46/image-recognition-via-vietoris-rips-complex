{
 "cells": [
  {
   "cell_type": "markdown",
   "metadata": {},
   "source": [
    "# Image Recognition via Vietoris-Rips Complex"
   ]
  },
  {
   "cell_type": "code",
   "execution_count": 1,
   "metadata": {},
   "outputs": [],
   "source": [
    "import numpy as np\n",
    "from scipy.sparse import csr_matrix, csgraph\n",
    "import matplotlib.pyplot as plt\n",
    "from tqdm import tqdm\n",
    "from PIL import Image"
   ]
  },
  {
   "cell_type": "code",
   "execution_count": 2,
   "metadata": {},
   "outputs": [],
   "source": [
    "def calc_index(k, i, j):\n",
    "    \"\"\"Calculate index of a vertice: g(v_{k,i,j}) = (k + 1) * i + j + sum_{l=0}^{k} l^2\n",
    "\n",
    "    Args:\n",
    "        k (int): Length of the side of the square. -1!\n",
    "        i (int): Row index of left top the square in a image.\n",
    "        j (int): Column index of left top the square in a image.\n",
    "\n",
    "    Returns:\n",
    "        int: The index of the vertice.\n",
    "    \"\"\"    \n",
    "    index = (k + 1) * i + j + np.array([l**2 for l in range(k+1)]).sum()\n",
    "    return index\n",
    "\n",
    "def get_vertice(image, k, i, j):\n",
    "    \"\"\"Get a square (a vertice in the graph) from a given image.\n",
    "       v_{k,i,j} = [N, N - k, i] * [N, N - k, j] in V_{N, N}\n",
    "\n",
    "    Args:\n",
    "        image (np.array): N * N gray scale image.\n",
    "        k (int): Length of the side of the square.\n",
    "        i (int): Row index of left top the square in a image.\n",
    "        j (int): Column index of left top the square in a image.\n",
    "\n",
    "    Returns:\n",
    "        np.array: A k * k gray scale sub-image.\n",
    "    \"\"\"    \n",
    "    square_width = image.shape[0] - k\n",
    "    vertice = image[i:(i + square_width), j:(j + square_width)]\n",
    "    return vertice\n",
    "\n",
    "def calc_weight(vertice_1, vertice_2):\n",
    "    \"\"\"Calculate the weight of the edge between two given vertices.\n",
    "       w_f({v_1, v_2}) = |#f(v_2) = #f(v_1)|, where #f(v) is the number of colors of v.\n",
    "\n",
    "    Args:\n",
    "        vertice_1 (np.array[int]): A gray scale sub-image (vertice 1).\n",
    "        vertice_2 (np.array[int]): A gray scale sub-image (vertice 2).\n",
    "\n",
    "    Returns:\n",
    "        int: Weight of the edge.\n",
    "    \"\"\"    \n",
    "    weight = abs(np.unique(vertice_1).size - np.unique(vertice_2).size)\n",
    "    return weight\n",
    "\n",
    "# def assign_values_to_list(k, i, j, vertices_from_list, vertices_to_list, weights_list, image):\n",
    "#     vertices_from_list.append(calc_index(k, i, j))\n",
    "#     vertices_to_list.append(calc_index(k + 1, i, j))\n",
    "#     weights_list.append(calc_weight(get_vertice(image, k, i, j), get_vertice(image, k + 1, i, j)))"
   ]
  },
  {
   "cell_type": "markdown",
   "metadata": {},
   "source": [
    "## Construction of the 1-Skelton of the Vietoris-Rips Complex Using All Squares"
   ]
  },
  {
   "cell_type": "code",
   "execution_count": 3,
   "metadata": {},
   "outputs": [],
   "source": [
    "def construct_one_skelton(image, small_epsilon=0.0):\n",
    "    \"\"\"Construct 1-skelton of the Vietoris-Rips Complex using all squares of a image.\n",
    "\n",
    "    Args:\n",
    "        image (np.array): N * N gray scale image.\n",
    "        small_epsilon (float, optional): Small constant. If weights are under this values, weights will be 1 else be 0.\n",
    "\n",
    "    Returns:\n",
    "        Tuple[List, List, List]: V_from (Index list of vertices), V_to (Index list of vertices), tilde{W} (Binarized weight list)\n",
    "    \"\"\"    \n",
    "    image_size = image.shape[0]\n",
    "    vertices_from_list = []\n",
    "    vertices_to_list = []\n",
    "    weights_list = []\n",
    "    weights_tilde_list = []\n",
    "\n",
    "    for k in tqdm(range(image_size -1)):\n",
    "        for i in range(k + 1):\n",
    "            for j in range(k + 1):\n",
    "                index_k_i_j = calc_index(k, i, j)\n",
    "\n",
    "                vertices_from_list.append(index_k_i_j)\n",
    "                vertices_to_list.append(calc_index(k + 1, i, j))\n",
    "                weights_list.append(calc_weight(get_vertice(image, k, i, j), get_vertice(image, k + 1, i, j)))\n",
    "\n",
    "                # TODO: 関数化\n",
    "                vertices_from_list.append(index_k_i_j)\n",
    "                vertices_to_list.append(calc_index(k + 1, i, j + 1))\n",
    "                weights_list.append(calc_weight(get_vertice(image, k, i, j), get_vertice(image, k + 1, i, j + 1)))\n",
    "\n",
    "                vertices_from_list.append(index_k_i_j)\n",
    "                vertices_to_list.append(calc_index(k + 1, i + 1, j))\n",
    "                weights_list.append(calc_weight(get_vertice(image, k, i, j), get_vertice(image, k + 1, i + 1, j)))\n",
    "\n",
    "                vertices_from_list.append(index_k_i_j)\n",
    "                vertices_to_list.append(calc_index(k + 1, i + 1, j + 1))\n",
    "                weights_list.append(calc_weight(get_vertice(image, k, i, j), get_vertice(image, k + 1, i + 1, j + 1)))  \n",
    "\n",
    "    for weight in weights_list:\n",
    "        if weight > small_epsilon:\n",
    "            weights_tilde_list.append(0)\n",
    "        else:\n",
    "            weights_tilde_list.append(1)\n",
    "\n",
    "    return vertices_from_list, vertices_to_list, weights_tilde_list"
   ]
  },
  {
   "cell_type": "markdown",
   "metadata": {},
   "source": [
    "## Highlighting Minimal Size Squares"
   ]
  },
  {
   "cell_type": "code",
   "execution_count": 4,
   "metadata": {},
   "outputs": [],
   "source": [
    "IMAGE_ADDRESS = 'img/tea.png'\n",
    "IMAGE_RESIZE = (10, 10)\n",
    "\n",
    "pil_image = Image.open(IMAGE_ADDRESS)\n",
    "pil_image = pil_image.resize(IMAGE_RESIZE).convert('L')\n",
    "image = np.array(pil_image)"
   ]
  },
  {
   "cell_type": "code",
   "execution_count": 5,
   "metadata": {},
   "outputs": [
    {
     "name": "stderr",
     "output_type": "stream",
     "text": [
      "100%|██████████| 9/9 [00:00<00:00, 249.44it/s]\n",
      "100%|██████████| 1/1 [00:00<00:00, 7639.90it/s]\n"
     ]
    }
   ],
   "source": [
    "\"\"\"\n",
    "Calculate minimal size squares and run object detection based on the result.\n",
    "\"\"\"\n",
    "vertices_from_list, vertices_to_list, weights_tilde_list = construct_one_skelton(image, small_epsilon=0)\n",
    "\n",
    "# 縦がV_from、横がV_toで重みがW_tildeとなるグラフをCSR形式で作る\n",
    "compressed_sparse_matrix = csr_matrix((weights_tilde_list, (vertices_from_list, vertices_to_list)), shape = (max(vertices_to_list) + 1, max(vertices_to_list) + 1))\n",
    "connected_components = csgraph.connected_components(compressed_sparse_matrix)[1]\n",
    "\n",
    "vertice_tmp = 0\n",
    "for index, connected_component in enumerate(connected_components):\n",
    "    if connected_component == 0:\n",
    "        vertice_tmp = index\n",
    "\n",
    "N = image.shape[0]\n",
    "vector = np.array([l**2 for l in range(N + 1)])\n",
    "k_prime = N - [l for l in range(1,N+1) if vector[:l+1].sum() > vertice_tmp][0]\n",
    "detection_result = np.zeros_like(image)\n",
    "for i in tqdm(range(k_prime + 1)):\n",
    "    for j in range(k_prime + 1):\n",
    "        if connected_components[calc_index(k_prime, i, j)] == 0:\n",
    "            detection_result[i:(i + detection_result.shape[0] - k_prime), j:(j + detection_result.shape[1] - k_prime)] = get_vertice(image, k_prime, i, j)\n"
   ]
  },
  {
   "cell_type": "code",
   "execution_count": 6,
   "metadata": {},
   "outputs": [
    {
     "data": {
      "image/png": "[encoded data removed]",
      "text/plain": [
       "<Figure size 432x288 with 1 Axes>"
      ]
     },
     "metadata": {
      "needs_background": "light"
     },
     "output_type": "display_data"
    }
   ],
   "source": [
    "plt.imshow(detection_result, cmap = \"gray\")\n",
    "plt.show()"
   ]
  },
  {
   "cell_type": "code",
   "execution_count": null,
   "metadata": {},
   "outputs": [],
   "source": []
  }
 ],
 "metadata": {
  "interpreter": {
   "hash": "51277dc59fd066300e419e915d8a2a9e32bab27c1c3bc1bdcf4bc7cf23b2a3da"
  },
  "kernelspec": {
   "display_name": "Python 3",
   "language": "python",
   "name": "python3"
  },
  "language_info": {
   "codemirror_mode": {
    "name": "ipython",
    "version": 3
   },
   "file_extension": ".py",
   "mimetype": "text/x-python",
   "name": "python",
   "nbconvert_exporter": "python",
   "pygments_lexer": "ipython3",
   "version": "3.8.8"
  }
 },
 "nbformat": 4,
 "nbformat_minor": 4
}
