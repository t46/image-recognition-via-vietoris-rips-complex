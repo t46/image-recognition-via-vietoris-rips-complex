{
 "cells": [
  {
   "cell_type": "markdown",
   "metadata": {},
   "source": [
    "# Image Recognition via Vietoris-Rips Complex"
   ]
  },
  {
   "cell_type": "code",
   "execution_count": 1,
   "metadata": {},
   "outputs": [],
   "source": [
    "import numpy as np\n",
    "from scipy.sparse import csr_matrix, csgraph\n",
    "import matplotlib.pyplot as plt\n",
    "from tqdm import tqdm\n",
    "from PIL import Image"
   ]
  },
  {
   "cell_type": "code",
   "execution_count": 2,
   "metadata": {},
   "outputs": [],
   "source": [
    "def calc_vertice_index(k, i, j):\n",
    "    \"\"\"Calculate index of a vertice: g(v_{k,i,j}) = (k + 1) * i + j + sum_{l=0}^{k} l^2\n",
    "\n",
    "    Args:\n",
    "        k (int): N - k is the length of the side of the square.\n",
    "        i (int): Row index of left top the square in a image.\n",
    "        j (int): Column index of left top the square in a image.\n",
    "\n",
    "    Returns:\n",
    "        int: The index of the vertice.\n",
    "    \"\"\"    \n",
    "    index = (k + 1) * i + j + np.array([l ** 2 for l in range(k + 1)]).sum()\n",
    "    return index\n",
    "\n",
    "def get_vertice(image, k, i, j):\n",
    "    \"\"\"Get a square (a vertice in the graph) from a given image.\n",
    "       v_{k,i,j} = [N, N - k, i] * [N, N - k, j] in V_{N, N}\n",
    "\n",
    "    Args:\n",
    "        image (np.array): N * N gray scale image.\n",
    "        k (int): N - k is the length of the side of the square.\n",
    "        i (int): Row index of left top the square in a image.\n",
    "        j (int): Column index of left top the square in a image.\n",
    "\n",
    "    Returns:\n",
    "        np.array: A k * k gray scale sub-image.\n",
    "    \"\"\"    \n",
    "    square_width = image.shape[0] - k\n",
    "    vertice = image[i: (i + square_width), j: (j + square_width)]\n",
    "    return vertice\n",
    "\n",
    "def connect_two_vertices(vertice_from, vertice_to, total_num_color, error_parameter, scaling_const, and_condition=True):\n",
    "    \"\"\"\n",
    "    if and_condition == True:\n",
    "        Connect the two vertices if both of them have the larger number of colors than a threshold. \n",
    "            Connect if #f(v_1) >= #f(image) - n * epsilon AND #f(v_2) >= #f(image) - n * epsilon.\n",
    "    else:\n",
    "        Connect the two vertices if the difference between the colors of the vertices is greater than error_parameter.\n",
    "            Connect if  |#f(v_2) = #f(v_1)| >= epsilon.        \n",
    "\n",
    "    Args:\n",
    "        vertice_from (np.array[int]): A gray scale sub-image (vertice 1).\n",
    "        vertice_to (np.array[int]): A gray scale sub-image (vertice 2).\n",
    "        total_num_color (int): The number of colors of the image.\n",
    "        error_parameter (float): Error paramter that determines if two vertices are connected or not (epsilon).\n",
    "        scaling_const (float): Another paramter that determines if two vertices are connected or not (n).\n",
    "        and_condition (bool): If True, we connect vertices when #f(v_1) AND #f(v_2) are greater than a threshold,\n",
    "                              else, we connect vertices when |#f(v_1) - #f(v_2)| is greater than a threshold.\n",
    "\n",
    "    Returns:\n",
    "        int: 1 if the two vertices are connected else 0.\n",
    "    \"\"\"\n",
    "    if and_condition:\n",
    "        threshold_to_connect = total_num_color - scaling_const * error_parameter\n",
    "        if (np.unique(vertice_from).size > threshold_to_connect) and (np.unique(vertice_to).size > threshold_to_connect):\n",
    "            weight = 1\n",
    "        else:\n",
    "            weight = 0\n",
    "    else:\n",
    "        threshold_to_connect = error_parameter\n",
    "        if np.abs(np.unique(vertice_from).size - np.unique(vertice_to).size) > threshold_to_connect:\n",
    "            weight = 1\n",
    "        else:\n",
    "            weight = 0\n",
    "    return weight\n",
    "    \n"
   ]
  },
  {
   "cell_type": "markdown",
   "metadata": {},
   "source": [
    "## Construction of the 1-Skelton of the Vietoris-Rips Complex Using All Squares"
   ]
  },
  {
   "cell_type": "code",
   "execution_count": 3,
   "metadata": {},
   "outputs": [],
   "source": [
    "def construct_one_skelton(image, error_parameter=10.0, scaling_const=1.0):\n",
    "    \"\"\"Construct 1-skelton of the Vietoris-Rips Complex using all squares of a image.\n",
    "\n",
    "    Args:\n",
    "        image (np.array): N * N gray scale image.\n",
    "        error_parameter (float): Error paramter that determines if two vertices are connected or not (epsilon).\n",
    "        scaling_const (float): Another paramter that determines if two vertices are connected or not (n).\n",
    "\n",
    "    Returns:\n",
    "        Tuple[List, List, List]: V_from (Index list of vertices), V_to (Index list of vertices), and edges between the vertices.\n",
    "    \"\"\"    \n",
    "    image_size = image.shape[0]\n",
    "    ids_vertices_from = []\n",
    "    ids_vertices_to = []\n",
    "    edges = []\n",
    "    total_num_color = np.unique(image).size\n",
    "\n",
    "    for k in tqdm(range(image_size - 1)):\n",
    "        for i in range(k + 1):\n",
    "            for j in range(k + 1):\n",
    "                vertice_id_k_i_j = calc_vertice_index(k, i, j)\n",
    "\n",
    "                for square_pos_row in range(i, i + 2):\n",
    "                    for square_pos_column in range(j, j + 2):\n",
    "                        ids_vertices_from.append(vertice_id_k_i_j)\n",
    "                        ids_vertices_to.append(calc_vertice_index(k + 1, square_pos_row, square_pos_column))\n",
    "                        edges.append(\n",
    "                            connect_two_vertices(\n",
    "                                get_vertice(image, k, square_pos_row, square_pos_column),\n",
    "                                get_vertice(image, k + 1, square_pos_row, square_pos_column),\n",
    "                                total_num_color,\n",
    "                                error_parameter,\n",
    "                                scaling_const\n",
    "                                )\n",
    "                            ) \n",
    "\n",
    "    return ids_vertices_from, ids_vertices_to, edges\n",
    "\n"
   ]
  },
  {
   "cell_type": "markdown",
   "metadata": {},
   "source": [
    "## Highlighting Minimal Size Squares"
   ]
  },
  {
   "cell_type": "markdown",
   "metadata": {},
   "source": [
    "### Load an Image"
   ]
  },
  {
   "cell_type": "code",
   "execution_count": 11,
   "metadata": {},
   "outputs": [],
   "source": [
    "IMAGE_TYPE = 'tea'  # NOTE: 'tea' or 'squirrel'\n",
    "IMAGE_ADDRESS = f'img/{IMAGE_TYPE}.png'\n",
    "IMAGE_SIDE_LENGTH = 100\n",
    "IMAGE_RESIZE = (IMAGE_SIDE_LENGTH, IMAGE_SIDE_LENGTH)\n",
    "\n",
    "pil_image = Image.open(IMAGE_ADDRESS)\n",
    "pil_image = pil_image.resize(IMAGE_RESIZE).convert('L')\n",
    "image = np.array(pil_image)"
   ]
  },
  {
   "cell_type": "markdown",
   "metadata": {},
   "source": [
    "### Calculate Minimal Size Squares and Run Object Detection Based on the Result "
   ]
  },
  {
   "cell_type": "code",
   "execution_count": 12,
   "metadata": {},
   "outputs": [
    {
     "name": "stderr",
     "output_type": "stream",
     "text": [
      "100%|██████████| 99/99 [01:38<00:00,  1.00it/s]\n",
      "100%|██████████| 93/93 [00:00<00:00, 454.09it/s]\n"
     ]
    }
   ],
   "source": [
    "ERROR_PARAMETER = 10.0\n",
    "SCALING_CONST = 19.0\n",
    "\n",
    "ids_vertices_from, ids_vertices_to, edges = construct_one_skelton(image, error_parameter=ERROR_PARAMETER, scaling_const=SCALING_CONST)\n",
    "\n",
    "# Construct a sparse graph in CSR format\n",
    "compressed_sparse_matrix = csr_matrix((edges, (ids_vertices_from, ids_vertices_to)), shape = (max(ids_vertices_to) + 1, max(ids_vertices_to) + 1))\n",
    "# Delete zeros that remain because of CSR format's specification.\n",
    "# TODO: Will change not to append weight to edges when creating edges.\n",
    "compressed_sparse_matrix.eliminate_zeros()\n",
    "connected_component_ids = csgraph.connected_components(compressed_sparse_matrix)[1]  # The indices of connected components.\n",
    "\n",
    "# Get the maximum index of vertices that is contained in the 0-th connected component (C_0).\n",
    "max_vertice_id_in_cc_zero = np.where(connected_component_ids == 0)[0][-1]\n",
    "\n",
    "# Get representative vertice id of each square size.\n",
    "representative_vertice_ids_per_square_size = np.array([l ** 2 for l in range(IMAGE_SIDE_LENGTH + 1)])\n",
    "representative_vertice_ids_per_square_size = [representative_vertice_ids_per_square_size[: l + 1].sum() for l in range(1, IMAGE_SIDE_LENGTH + 1)]\n",
    "\n",
    "# The minimum index of vertices whose index is larger than the maximum index of vertices contained in the 0-th connected component.\n",
    "k_prime = np.where(representative_vertice_ids_per_square_size > max_vertice_id_in_cc_zero)[0][0] \n",
    "square_side_length = IMAGE_SIDE_LENGTH - k_prime\n",
    "\n",
    "# For squares with size of square_side_length at all positions in the image, replace zeros to sub-image if a vertex is contained in 0-th connected component (C_0).\n",
    "detection_result = np.zeros_like(image)\n",
    "for i in tqdm(range(k_prime + 1)):\n",
    "    for j in range(k_prime + 1):\n",
    "        if connected_component_ids[calc_vertice_index(k_prime, i, j)] == 0:\n",
    "            detection_result[i: (i + square_side_length), j: (j + square_side_length)] = get_vertice(image, k_prime, i, j)\n"
   ]
  },
  {
   "cell_type": "code",
   "execution_count": 13,
   "metadata": {},
   "outputs": [
    {
     "data": {
      "image/png": "[encoded data removed]",
      "text/plain": [
       "<Figure size 432x288 with 1 Axes>"
      ]
     },
     "metadata": {
      "needs_background": "light"
     },
     "output_type": "display_data"
    }
   ],
   "source": [
    "plt.imshow(detection_result, cmap = \"gray\")\n",
    "plt.savefig(f'results/{IMAGE_TYPE}_epsilon={ERROR_PARAMETER}_n={SCALING_CONST}.png')\n",
    "plt.show()"
   ]
  }
 ],
 "metadata": {
  "interpreter": {
   "hash": "51277dc59fd066300e419e915d8a2a9e32bab27c1c3bc1bdcf4bc7cf23b2a3da"
  },
  "kernelspec": {
   "display_name": "Python 3",
   "language": "python",
   "name": "python3"
  },
  "language_info": {
   "codemirror_mode": {
    "name": "ipython",
    "version": 3
   },
   "file_extension": ".py",
   "mimetype": "text/x-python",
   "name": "python",
   "nbconvert_exporter": "python",
   "pygments_lexer": "ipython3",
   "version": "3.9.7"
  }
 },
 "nbformat": 4,
 "nbformat_minor": 4
}
